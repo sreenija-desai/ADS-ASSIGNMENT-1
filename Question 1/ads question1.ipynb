{
 "cells": [
  {
   "cell_type": "code",
   "execution_count": 44,
   "id": "e80dcd16",
   "metadata": {},
   "outputs": [],
   "source": [
    "import spacy"
   ]
  },
  {
   "cell_type": "code",
   "execution_count": 45,
   "id": "70e9a312",
   "metadata": {},
   "outputs": [],
   "source": [
    "input_file = \"input.txt\"\n",
    "output_file = \"output.txt\""
   ]
  },
  {
   "cell_type": "code",
   "execution_count": 46,
   "id": "a6d90a0c",
   "metadata": {},
   "outputs": [],
   "source": [
    "def recognize_named_entities(input_file,output_file):\n",
    "    nlp = spacy.load('en_core_web_sm')\n",
    "ner_categories = [\"PERSON\",\"ORG\",\"LOC\",\"DATES\"]"
   ]
  },
  {
   "cell_type": "code",
   "execution_count": 47,
   "id": "f7bb0daa",
   "metadata": {},
   "outputs": [],
   "source": [
    "with open('input.txt', 'r') as file:\n",
    "    text = file.read()"
   ]
  },
  {
   "cell_type": "code",
   "execution_count": 48,
   "id": "d89bc559",
   "metadata": {
    "scrolled": true
   },
   "outputs": [
    {
     "name": "stdout",
     "output_type": "stream",
     "text": [
      "In the heart of bustling city streets, the \"Phoenix Foundation\" stood as a beacon of hope. Named after the mythical bird symbolizing renewal and regeneration, it was founded by Dr. Emily Carson, a visionary philanthropist with a passion for community empowerment.The organization's mission extended beyond charity; it was about fostering sustainable change. Through innovative programs and partnerships, the Foundation tackled pressing social issues like homelessness, education inequality, and environmental degradation.At its core, the Phoenix Foundation believed in the power of collaboration. It brought together diverse voices - from activists to policymakers, artists to entrepreneurs - to co-create solutions that transcended traditional boundaries.Named initiatives like \"RiseUp Education\" provided underprivileged youth with access to quality education, igniting a spark of potential in their lives. Meanwhile, \"Green Wings\" spearheaded eco-friendly projects, transforming concrete jungles into vibrant green spaces.But perhaps the Foundation's greatest achievement was not in the projects it initiated, but in the lives it touched. Each success story, each transformed community member, was a testament to the enduring power of compassion and collective action. As the Phoenix Foundation continued to soar, it left a trail of hope in its wake, inspiring others to join the flight towards a brighterÂ future.\n"
     ]
    }
   ],
   "source": [
    "print(text)"
   ]
  },
  {
   "cell_type": "code",
   "execution_count": 54,
   "id": "90ab57e2",
   "metadata": {},
   "outputs": [],
   "source": [
    "import spacy\n",
    "\n",
    "# Load the English language model\n",
    "nlp = spacy.load(\"en_core_web_sm\")\n",
    "\n",
    "# Now you can use the nlp object to process text\n",
    "doc = nlp(text)\n"
   ]
  },
  {
   "cell_type": "code",
   "execution_count": 55,
   "id": "80881a9e",
   "metadata": {},
   "outputs": [],
   "source": [
    "named_entities = [(ent.text, ent.label_) for ent in doc.ents]"
   ]
  },
  {
   "cell_type": "code",
   "execution_count": 56,
   "id": "658aac6e",
   "metadata": {},
   "outputs": [],
   "source": [
    "with open(output_file, \"w\", encoding=\"utf-8\") as f:\n",
    "        for entity, label in named_entities:\n",
    "            f.write(f\"{entity}\\t{label}\\n\")"
   ]
  },
  {
   "cell_type": "code",
   "execution_count": 57,
   "id": "b127aca2",
   "metadata": {},
   "outputs": [],
   "source": [
    "recognize_named_entities(input_file, output_file)"
   ]
  },
  {
   "cell_type": "code",
   "execution_count": 58,
   "id": "38c96d9d",
   "metadata": {},
   "outputs": [
    {
     "data": {
      "text/html": [
       "<span class=\"tex2jax_ignore\"><div class=\"entities\" style=\"line-height: 2.5; direction: ltr\">In the heart of bustling city streets, \n",
       "<mark class=\"entity\" style=\"background: #7aecec; padding: 0.45em 0.6em; margin: 0 0.25em; line-height: 1; border-radius: 0.35em;\">\n",
       "    the &quot;Phoenix Foundation\n",
       "    <span style=\"font-size: 0.8em; font-weight: bold; line-height: 1; border-radius: 0.35em; vertical-align: middle; margin-left: 0.5rem\">ORG</span>\n",
       "</mark>\n",
       "&quot; stood as a beacon of hope. Named after the mythical bird symbolizing renewal and regeneration, it was founded by Dr. \n",
       "<mark class=\"entity\" style=\"background: #aa9cfc; padding: 0.45em 0.6em; margin: 0 0.25em; line-height: 1; border-radius: 0.35em;\">\n",
       "    Emily Carson\n",
       "    <span style=\"font-size: 0.8em; font-weight: bold; line-height: 1; border-radius: 0.35em; vertical-align: middle; margin-left: 0.5rem\">PERSON</span>\n",
       "</mark>\n",
       ", a visionary philanthropist with a passion for community empowerment.The organization's mission extended beyond charity; it was about fostering sustainable change. Through innovative programs and partnerships, the \n",
       "<mark class=\"entity\" style=\"background: #7aecec; padding: 0.45em 0.6em; margin: 0 0.25em; line-height: 1; border-radius: 0.35em;\">\n",
       "    Foundation\n",
       "    <span style=\"font-size: 0.8em; font-weight: bold; line-height: 1; border-radius: 0.35em; vertical-align: middle; margin-left: 0.5rem\">ORG</span>\n",
       "</mark>\n",
       " tackled pressing social issues like homelessness, education inequality, and environmental degradation.At its core, \n",
       "<mark class=\"entity\" style=\"background: #7aecec; padding: 0.45em 0.6em; margin: 0 0.25em; line-height: 1; border-radius: 0.35em;\">\n",
       "    the Phoenix Foundation\n",
       "    <span style=\"font-size: 0.8em; font-weight: bold; line-height: 1; border-radius: 0.35em; vertical-align: middle; margin-left: 0.5rem\">ORG</span>\n",
       "</mark>\n",
       " believed in the power of collaboration. It brought together diverse voices - from activists to policymakers, artists to entrepreneurs - to co-create solutions that transcended traditional boundaries.Named initiatives like &quot;\n",
       "<mark class=\"entity\" style=\"background: #f0d0ff; padding: 0.45em 0.6em; margin: 0 0.25em; line-height: 1; border-radius: 0.35em;\">\n",
       "    RiseUp Education\n",
       "    <span style=\"font-size: 0.8em; font-weight: bold; line-height: 1; border-radius: 0.35em; vertical-align: middle; margin-left: 0.5rem\">WORK_OF_ART</span>\n",
       "</mark>\n",
       "&quot; provided underprivileged youth with access to quality education, igniting a spark of potential in their lives. Meanwhile, &quot;\n",
       "<mark class=\"entity\" style=\"background: #f0d0ff; padding: 0.45em 0.6em; margin: 0 0.25em; line-height: 1; border-radius: 0.35em;\">\n",
       "    Green Wings\n",
       "    <span style=\"font-size: 0.8em; font-weight: bold; line-height: 1; border-radius: 0.35em; vertical-align: middle; margin-left: 0.5rem\">WORK_OF_ART</span>\n",
       "</mark>\n",
       "&quot; spearheaded eco-friendly projects, transforming concrete jungles into vibrant green spaces.But perhaps the \n",
       "<mark class=\"entity\" style=\"background: #7aecec; padding: 0.45em 0.6em; margin: 0 0.25em; line-height: 1; border-radius: 0.35em;\">\n",
       "    Foundation\n",
       "    <span style=\"font-size: 0.8em; font-weight: bold; line-height: 1; border-radius: 0.35em; vertical-align: middle; margin-left: 0.5rem\">ORG</span>\n",
       "</mark>\n",
       "'s greatest achievement was not in the projects it initiated, but in the lives it touched. Each success story, each transformed community member, was a testament to the enduring power of compassion and collective action. As \n",
       "<mark class=\"entity\" style=\"background: #7aecec; padding: 0.45em 0.6em; margin: 0 0.25em; line-height: 1; border-radius: 0.35em;\">\n",
       "    the Phoenix Foundation\n",
       "    <span style=\"font-size: 0.8em; font-weight: bold; line-height: 1; border-radius: 0.35em; vertical-align: middle; margin-left: 0.5rem\">ORG</span>\n",
       "</mark>\n",
       " continued to soar, it left a trail of hope in its wake, inspiring others to join the flight towards a brighterÂ future.</div></span>"
      ],
      "text/plain": [
       "<IPython.core.display.HTML object>"
      ]
     },
     "metadata": {},
     "output_type": "display_data"
    }
   ],
   "source": [
    "spacy.displacy.render(doc,style=\"ent\")"
   ]
  }
 ],
 "metadata": {
  "kernelspec": {
   "display_name": "Python 3 (ipykernel)",
   "language": "python",
   "name": "python3"
  },
  "language_info": {
   "codemirror_mode": {
    "name": "ipython",
    "version": 3
   },
   "file_extension": ".py",
   "mimetype": "text/x-python",
   "name": "python",
   "nbconvert_exporter": "python",
   "pygments_lexer": "ipython3",
   "version": "3.9.12"
  }
 },
 "nbformat": 4,
 "nbformat_minor": 5
}
